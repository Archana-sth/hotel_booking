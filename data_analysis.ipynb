{
 "cells": [
  {
   "cell_type": "code",
   "execution_count": 5,
   "id": "9a55fd82",
   "metadata": {},
   "outputs": [],
   "source": [
    "import pandas as pd\n",
    "import numpy as np\n",
    "import matplotlib.pyplot as plt\n",
    "import seaborn as sns\n",
    "import warnings\n",
    "warnings.filterwarnings(\"ignore\")"
   ]
  },
  {
   "cell_type": "code",
   "execution_count": 12,
   "id": "ca9ee669",
   "metadata": {},
   "outputs": [
    {
     "name": "stdout",
     "output_type": "stream",
     "text": [
      "          hotel  lead_time  arrival_date_year arrival_date_month  \\\n",
      "0  Resort Hotel        342               2015               July   \n",
      "1  Resort Hotel        737               2015               July   \n",
      "2  Resort Hotel          7               2015               July   \n",
      "\n",
      "   arrival_date_week_number  arrival_date_day_of_month  \\\n",
      "0                        27                          1   \n",
      "1                        27                          1   \n",
      "2                        27                          1   \n",
      "\n",
      "   stays_in_weekend_nights  stays_in_week_nights meal country  ...  \\\n",
      "0                        0                     0   BB     PRT  ...   \n",
      "1                        0                     0   BB     PRT  ...   \n",
      "2                        0                     1   BB     GBR  ...   \n",
      "\n",
      "  booking_changes deposit_type  agent  company  days_in_waiting_list  \\\n",
      "0               3   No Deposit    NaN      NaN                     0   \n",
      "1               4   No Deposit    NaN      NaN                     0   \n",
      "2               0   No Deposit    NaN      NaN                     0   \n",
      "\n",
      "  customer_type   adr  required_car_parking_spaces reservation_status  \\\n",
      "0     Transient   0.0                            0          Check-Out   \n",
      "1     Transient   0.0                            0          Check-Out   \n",
      "2     Transient  75.0                            0          Check-Out   \n",
      "\n",
      "   Unnamed: 26  \n",
      "0          NaN  \n",
      "1          NaN  \n",
      "2          NaN  \n",
      "\n",
      "[3 rows x 27 columns]\n"
     ]
    }
   ],
   "source": [
    "booking = pd.read_csv(\"booking.csv\")\n",
    "print(booking.head(3))"
   ]
  },
  {
   "cell_type": "code",
   "execution_count": 14,
   "id": "f8415cbe",
   "metadata": {},
   "outputs": [
    {
     "name": "stdout",
     "output_type": "stream",
     "text": [
      "  reservation_status_date            name  babies  children  adults  \\\n",
      "0                7/1/2015   Ernest Barnes       0       0.0       2   \n",
      "1                7/1/2015    Andrea Baker       0       0.0       2   \n",
      "2                7/2/2015  Rebecca Parker       0       0.0       1   \n",
      "\n",
      "                         email  phone-number       credit_card  \n",
      "0  Ernest.Barnes31@outlook.com  669-792-1661  ************4322  \n",
      "1       Andrea_Baker94@aol.com  858-637-6955  ************9157  \n",
      "2   Rebecca_Parker@comcast.net  652-885-2745  ************3734  \n"
     ]
    }
   ],
   "source": [
    "client = pd.read_csv(\"client_info.csv\")\n",
    "print(client.head(3))"
   ]
  },
  {
   "cell_type": "code",
   "execution_count": null,
   "id": "a21f7f22",
   "metadata": {},
   "outputs": [],
   "source": []
  }
 ],
 "metadata": {
  "kernelspec": {
   "display_name": "Python 3 (ipykernel)",
   "language": "python",
   "name": "python3"
  },
  "language_info": {
   "codemirror_mode": {
    "name": "ipython",
    "version": 3
   },
   "file_extension": ".py",
   "mimetype": "text/x-python",
   "name": "python",
   "nbconvert_exporter": "python",
   "pygments_lexer": "ipython3",
   "version": "3.10.8"
  }
 },
 "nbformat": 4,
 "nbformat_minor": 5
}
