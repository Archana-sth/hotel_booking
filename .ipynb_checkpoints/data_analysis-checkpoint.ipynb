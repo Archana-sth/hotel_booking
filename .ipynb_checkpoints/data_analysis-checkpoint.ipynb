{
 "cells": [
  {
   "cell_type": "code",
   "execution_count": 1,
   "id": "9a55fd82",
   "metadata": {},
   "outputs": [],
   "source": [
    "#Importing libraries\n",
    "\n",
    "#for data manipulation\n",
    "import pandas as pd\n",
    "import numpy as np\n",
    "\n",
    "#for data visualization\n",
    "import matplotlib.pyplot as plt\n",
    "import seaborn as sns\n",
    "\n",
    "#for ignore warning\n",
    "import warnings\n",
    "warnings.filterwarnings(\"ignore\")"
   ]
  },
  {
   "cell_type": "code",
   "execution_count": 2,
   "id": "fc23a2b9",
   "metadata": {},
   "outputs": [
    {
     "name": "stdout",
     "output_type": "stream",
     "text": [
      "          hotel  lead_time  arrival_date_year arrival_date_month  \\\n",
      "0  Resort Hotel        342               2015               July   \n",
      "1  Resort Hotel        737               2015               July   \n",
      "2  Resort Hotel          7               2015               July   \n",
      "\n",
      "   arrival_date_week_number  arrival_date_day_of_month  \\\n",
      "0                        27                          1   \n",
      "1                        27                          1   \n",
      "2                        27                          1   \n",
      "\n",
      "   stays_in_weekend_nights  stays_in_week_nights meal country  ...  \\\n",
      "0                        0                     0   BB     PRT  ...   \n",
      "1                        0                     0   BB     PRT  ...   \n",
      "2                        0                     1   BB     GBR  ...   \n",
      "\n",
      "  booking_changes deposit_type  agent  company  days_in_waiting_list  \\\n",
      "0               3   No Deposit    NaN      NaN                     0   \n",
      "1               4   No Deposit    NaN      NaN                     0   \n",
      "2               0   No Deposit    NaN      NaN                     0   \n",
      "\n",
      "  customer_type   adr  required_car_parking_spaces reservation_status  \\\n",
      "0     Transient   0.0                            0          Check-Out   \n",
      "1     Transient   0.0                            0          Check-Out   \n",
      "2     Transient  75.0                            0          Check-Out   \n",
      "\n",
      "   Unnamed: 26  \n",
      "0          NaN  \n",
      "1          NaN  \n",
      "2          NaN  \n",
      "\n",
      "[3 rows x 27 columns]\n"
     ]
    }
   ],
   "source": [
    "# read in booking data\n",
    "booking = pd.read_csv(\"booking.csv\")\n",
    "print(booking.head(3))"
   ]
  },
  {
   "cell_type": "code",
   "execution_count": 3,
   "id": "bfa704c0",
   "metadata": {},
   "outputs": [
    {
     "name": "stdout",
     "output_type": "stream",
     "text": [
      "  reservation_status_date            name  babies  children  adults  \\\n",
      "0                7/1/2015   Ernest Barnes       0       0.0       2   \n",
      "1                7/1/2015    Andrea Baker       0       0.0       2   \n",
      "2                7/2/2015  Rebecca Parker       0       0.0       1   \n",
      "\n",
      "                         email  phone-number       credit_card  \n",
      "0  Ernest.Barnes31@outlook.com  669-792-1661  ************4322  \n",
      "1       Andrea_Baker94@aol.com  858-637-6955  ************9157  \n",
      "2   Rebecca_Parker@comcast.net  652-885-2745  ************3734  \n"
     ]
    }
   ],
   "source": [
    "#read in client information data\n",
    "client = pd.read_csv(\"client_info.csv\")\n",
    "print(client.head(3))"
   ]
  },
  {
   "cell_type": "code",
   "execution_count": 4,
   "id": "beb20e18",
   "metadata": {},
   "outputs": [
    {
     "name": "stdout",
     "output_type": "stream",
     "text": [
      "          hotel  lead_time  arrival_date_year arrival_date_month  \\\n",
      "0  Resort Hotel        342               2015               July   \n",
      "1  Resort Hotel        737               2015               July   \n",
      "2  Resort Hotel          7               2015               July   \n",
      "\n",
      "   arrival_date_week_number  arrival_date_day_of_month  \\\n",
      "0                        27                          1   \n",
      "1                        27                          1   \n",
      "2                        27                          1   \n",
      "\n",
      "   stays_in_weekend_nights  stays_in_week_nights meal country  ...  \\\n",
      "0                        0                     0   BB     PRT  ...   \n",
      "1                        0                     0   BB     PRT  ...   \n",
      "2                        0                     1   BB     GBR  ...   \n",
      "\n",
      "  reservation_status Unnamed: 26  reservation_status_date            name  \\\n",
      "0          Check-Out         NaN                 7/1/2015   Ernest Barnes   \n",
      "1          Check-Out         NaN                 7/1/2015    Andrea Baker   \n",
      "2          Check-Out         NaN                 7/2/2015  Rebecca Parker   \n",
      "\n",
      "   babies children adults                        email  phone-number  \\\n",
      "0       0      0.0      2  Ernest.Barnes31@outlook.com  669-792-1661   \n",
      "1       0      0.0      2       Andrea_Baker94@aol.com  858-637-6955   \n",
      "2       0      0.0      1   Rebecca_Parker@comcast.net  652-885-2745   \n",
      "\n",
      "        credit_card  \n",
      "0  ************4322  \n",
      "1  ************9157  \n",
      "2  ************3734  \n",
      "\n",
      "[3 rows x 35 columns]\n"
     ]
    }
   ],
   "source": [
    "# merged two dataset into a new dataset.\n",
    "df = pd.concat([booking, client], axis = 1)\n",
    "print(df.head(3))"
   ]
  },
  {
   "cell_type": "markdown",
   "id": "214e68b1",
   "metadata": {},
   "source": [
    "# data analysis and data cleaning"
   ]
  },
  {
   "cell_type": "code",
   "execution_count": 5,
   "id": "544e9f00",
   "metadata": {},
   "outputs": [
    {
     "name": "stdout",
     "output_type": "stream",
     "text": [
      "(119390, 35)\n"
     ]
    }
   ],
   "source": [
    "#check size of dataset\n",
    "print(df.shape)"
   ]
  },
  {
   "cell_type": "markdown",
   "id": "eb352dff",
   "metadata": {},
   "source": [
    "there are 35 columns and 119390 rows in this dataset."
   ]
  },
  {
   "cell_type": "code",
   "execution_count": 6,
   "id": "96bf78f3",
   "metadata": {},
   "outputs": [
    {
     "data": {
      "text/html": [
       "<div>\n",
       "<style scoped>\n",
       "    .dataframe tbody tr th:only-of-type {\n",
       "        vertical-align: middle;\n",
       "    }\n",
       "\n",
       "    .dataframe tbody tr th {\n",
       "        vertical-align: top;\n",
       "    }\n",
       "\n",
       "    .dataframe thead th {\n",
       "        text-align: right;\n",
       "    }\n",
       "</style>\n",
       "<table border=\"1\" class=\"dataframe\">\n",
       "  <thead>\n",
       "    <tr style=\"text-align: right;\">\n",
       "      <th></th>\n",
       "      <th>lead_time</th>\n",
       "      <th>arrival_date_year</th>\n",
       "      <th>arrival_date_week_number</th>\n",
       "      <th>arrival_date_day_of_month</th>\n",
       "      <th>stays_in_weekend_nights</th>\n",
       "      <th>stays_in_week_nights</th>\n",
       "      <th>is_repeated_guest</th>\n",
       "      <th>previous_cancellations</th>\n",
       "      <th>previous_bookings_not_canceled</th>\n",
       "      <th>booking_changes</th>\n",
       "      <th>agent</th>\n",
       "      <th>company</th>\n",
       "      <th>days_in_waiting_list</th>\n",
       "      <th>adr</th>\n",
       "      <th>required_car_parking_spaces</th>\n",
       "      <th>Unnamed: 26</th>\n",
       "      <th>babies</th>\n",
       "      <th>children</th>\n",
       "      <th>adults</th>\n",
       "    </tr>\n",
       "  </thead>\n",
       "  <tbody>\n",
       "    <tr>\n",
       "      <th>count</th>\n",
       "      <td>119390.000000</td>\n",
       "      <td>119390.000000</td>\n",
       "      <td>119390.000000</td>\n",
       "      <td>119390.000000</td>\n",
       "      <td>119390.000000</td>\n",
       "      <td>119390.000000</td>\n",
       "      <td>119390.000000</td>\n",
       "      <td>119390.000000</td>\n",
       "      <td>119390.000000</td>\n",
       "      <td>119390.000000</td>\n",
       "      <td>103050.000000</td>\n",
       "      <td>6797.000000</td>\n",
       "      <td>119390.000000</td>\n",
       "      <td>119390.000000</td>\n",
       "      <td>119390.000000</td>\n",
       "      <td>0.0</td>\n",
       "      <td>119390.000000</td>\n",
       "      <td>119386.000000</td>\n",
       "      <td>119390.000000</td>\n",
       "    </tr>\n",
       "    <tr>\n",
       "      <th>mean</th>\n",
       "      <td>104.011416</td>\n",
       "      <td>2016.156554</td>\n",
       "      <td>27.165173</td>\n",
       "      <td>15.798241</td>\n",
       "      <td>0.927599</td>\n",
       "      <td>2.500302</td>\n",
       "      <td>0.031912</td>\n",
       "      <td>0.087118</td>\n",
       "      <td>0.137097</td>\n",
       "      <td>0.221124</td>\n",
       "      <td>86.693382</td>\n",
       "      <td>189.266735</td>\n",
       "      <td>2.321149</td>\n",
       "      <td>101.831122</td>\n",
       "      <td>0.062518</td>\n",
       "      <td>NaN</td>\n",
       "      <td>0.007949</td>\n",
       "      <td>0.103890</td>\n",
       "      <td>1.856403</td>\n",
       "    </tr>\n",
       "    <tr>\n",
       "      <th>std</th>\n",
       "      <td>106.863097</td>\n",
       "      <td>0.707476</td>\n",
       "      <td>13.605138</td>\n",
       "      <td>8.780829</td>\n",
       "      <td>0.998613</td>\n",
       "      <td>1.908286</td>\n",
       "      <td>0.175767</td>\n",
       "      <td>0.844336</td>\n",
       "      <td>1.497437</td>\n",
       "      <td>0.652306</td>\n",
       "      <td>110.774548</td>\n",
       "      <td>131.655015</td>\n",
       "      <td>17.594721</td>\n",
       "      <td>50.535790</td>\n",
       "      <td>0.245291</td>\n",
       "      <td>NaN</td>\n",
       "      <td>0.097436</td>\n",
       "      <td>0.398561</td>\n",
       "      <td>0.579261</td>\n",
       "    </tr>\n",
       "    <tr>\n",
       "      <th>min</th>\n",
       "      <td>0.000000</td>\n",
       "      <td>2015.000000</td>\n",
       "      <td>1.000000</td>\n",
       "      <td>1.000000</td>\n",
       "      <td>0.000000</td>\n",
       "      <td>0.000000</td>\n",
       "      <td>0.000000</td>\n",
       "      <td>0.000000</td>\n",
       "      <td>0.000000</td>\n",
       "      <td>0.000000</td>\n",
       "      <td>1.000000</td>\n",
       "      <td>6.000000</td>\n",
       "      <td>0.000000</td>\n",
       "      <td>-6.380000</td>\n",
       "      <td>0.000000</td>\n",
       "      <td>NaN</td>\n",
       "      <td>0.000000</td>\n",
       "      <td>0.000000</td>\n",
       "      <td>0.000000</td>\n",
       "    </tr>\n",
       "    <tr>\n",
       "      <th>25%</th>\n",
       "      <td>18.000000</td>\n",
       "      <td>2016.000000</td>\n",
       "      <td>16.000000</td>\n",
       "      <td>8.000000</td>\n",
       "      <td>0.000000</td>\n",
       "      <td>1.000000</td>\n",
       "      <td>0.000000</td>\n",
       "      <td>0.000000</td>\n",
       "      <td>0.000000</td>\n",
       "      <td>0.000000</td>\n",
       "      <td>9.000000</td>\n",
       "      <td>62.000000</td>\n",
       "      <td>0.000000</td>\n",
       "      <td>69.290000</td>\n",
       "      <td>0.000000</td>\n",
       "      <td>NaN</td>\n",
       "      <td>0.000000</td>\n",
       "      <td>0.000000</td>\n",
       "      <td>2.000000</td>\n",
       "    </tr>\n",
       "    <tr>\n",
       "      <th>50%</th>\n",
       "      <td>69.000000</td>\n",
       "      <td>2016.000000</td>\n",
       "      <td>28.000000</td>\n",
       "      <td>16.000000</td>\n",
       "      <td>1.000000</td>\n",
       "      <td>2.000000</td>\n",
       "      <td>0.000000</td>\n",
       "      <td>0.000000</td>\n",
       "      <td>0.000000</td>\n",
       "      <td>0.000000</td>\n",
       "      <td>14.000000</td>\n",
       "      <td>179.000000</td>\n",
       "      <td>0.000000</td>\n",
       "      <td>94.575000</td>\n",
       "      <td>0.000000</td>\n",
       "      <td>NaN</td>\n",
       "      <td>0.000000</td>\n",
       "      <td>0.000000</td>\n",
       "      <td>2.000000</td>\n",
       "    </tr>\n",
       "    <tr>\n",
       "      <th>75%</th>\n",
       "      <td>160.000000</td>\n",
       "      <td>2017.000000</td>\n",
       "      <td>38.000000</td>\n",
       "      <td>23.000000</td>\n",
       "      <td>2.000000</td>\n",
       "      <td>3.000000</td>\n",
       "      <td>0.000000</td>\n",
       "      <td>0.000000</td>\n",
       "      <td>0.000000</td>\n",
       "      <td>0.000000</td>\n",
       "      <td>229.000000</td>\n",
       "      <td>270.000000</td>\n",
       "      <td>0.000000</td>\n",
       "      <td>126.000000</td>\n",
       "      <td>0.000000</td>\n",
       "      <td>NaN</td>\n",
       "      <td>0.000000</td>\n",
       "      <td>0.000000</td>\n",
       "      <td>2.000000</td>\n",
       "    </tr>\n",
       "    <tr>\n",
       "      <th>max</th>\n",
       "      <td>737.000000</td>\n",
       "      <td>2017.000000</td>\n",
       "      <td>53.000000</td>\n",
       "      <td>31.000000</td>\n",
       "      <td>19.000000</td>\n",
       "      <td>50.000000</td>\n",
       "      <td>1.000000</td>\n",
       "      <td>26.000000</td>\n",
       "      <td>72.000000</td>\n",
       "      <td>21.000000</td>\n",
       "      <td>535.000000</td>\n",
       "      <td>543.000000</td>\n",
       "      <td>391.000000</td>\n",
       "      <td>5400.000000</td>\n",
       "      <td>8.000000</td>\n",
       "      <td>NaN</td>\n",
       "      <td>10.000000</td>\n",
       "      <td>10.000000</td>\n",
       "      <td>55.000000</td>\n",
       "    </tr>\n",
       "  </tbody>\n",
       "</table>\n",
       "</div>"
      ],
      "text/plain": [
       "           lead_time  arrival_date_year  arrival_date_week_number  \\\n",
       "count  119390.000000      119390.000000             119390.000000   \n",
       "mean      104.011416        2016.156554                 27.165173   \n",
       "std       106.863097           0.707476                 13.605138   \n",
       "min         0.000000        2015.000000                  1.000000   \n",
       "25%        18.000000        2016.000000                 16.000000   \n",
       "50%        69.000000        2016.000000                 28.000000   \n",
       "75%       160.000000        2017.000000                 38.000000   \n",
       "max       737.000000        2017.000000                 53.000000   \n",
       "\n",
       "       arrival_date_day_of_month  stays_in_weekend_nights  \\\n",
       "count              119390.000000            119390.000000   \n",
       "mean                   15.798241                 0.927599   \n",
       "std                     8.780829                 0.998613   \n",
       "min                     1.000000                 0.000000   \n",
       "25%                     8.000000                 0.000000   \n",
       "50%                    16.000000                 1.000000   \n",
       "75%                    23.000000                 2.000000   \n",
       "max                    31.000000                19.000000   \n",
       "\n",
       "       stays_in_week_nights  is_repeated_guest  previous_cancellations  \\\n",
       "count         119390.000000      119390.000000           119390.000000   \n",
       "mean               2.500302           0.031912                0.087118   \n",
       "std                1.908286           0.175767                0.844336   \n",
       "min                0.000000           0.000000                0.000000   \n",
       "25%                1.000000           0.000000                0.000000   \n",
       "50%                2.000000           0.000000                0.000000   \n",
       "75%                3.000000           0.000000                0.000000   \n",
       "max               50.000000           1.000000               26.000000   \n",
       "\n",
       "       previous_bookings_not_canceled  booking_changes          agent  \\\n",
       "count                   119390.000000    119390.000000  103050.000000   \n",
       "mean                         0.137097         0.221124      86.693382   \n",
       "std                          1.497437         0.652306     110.774548   \n",
       "min                          0.000000         0.000000       1.000000   \n",
       "25%                          0.000000         0.000000       9.000000   \n",
       "50%                          0.000000         0.000000      14.000000   \n",
       "75%                          0.000000         0.000000     229.000000   \n",
       "max                         72.000000        21.000000     535.000000   \n",
       "\n",
       "           company  days_in_waiting_list            adr  \\\n",
       "count  6797.000000         119390.000000  119390.000000   \n",
       "mean    189.266735              2.321149     101.831122   \n",
       "std     131.655015             17.594721      50.535790   \n",
       "min       6.000000              0.000000      -6.380000   \n",
       "25%      62.000000              0.000000      69.290000   \n",
       "50%     179.000000              0.000000      94.575000   \n",
       "75%     270.000000              0.000000     126.000000   \n",
       "max     543.000000            391.000000    5400.000000   \n",
       "\n",
       "       required_car_parking_spaces  Unnamed: 26         babies       children  \\\n",
       "count                119390.000000          0.0  119390.000000  119386.000000   \n",
       "mean                      0.062518          NaN       0.007949       0.103890   \n",
       "std                       0.245291          NaN       0.097436       0.398561   \n",
       "min                       0.000000          NaN       0.000000       0.000000   \n",
       "25%                       0.000000          NaN       0.000000       0.000000   \n",
       "50%                       0.000000          NaN       0.000000       0.000000   \n",
       "75%                       0.000000          NaN       0.000000       0.000000   \n",
       "max                       8.000000          NaN      10.000000      10.000000   \n",
       "\n",
       "              adults  \n",
       "count  119390.000000  \n",
       "mean        1.856403  \n",
       "std         0.579261  \n",
       "min         0.000000  \n",
       "25%         2.000000  \n",
       "50%         2.000000  \n",
       "75%         2.000000  \n",
       "max        55.000000  "
      ]
     },
     "execution_count": 6,
     "metadata": {},
     "output_type": "execute_result"
    }
   ],
   "source": [
    "#dataset information\n",
    "df.describe()"
   ]
  },
  {
   "cell_type": "code",
   "execution_count": 7,
   "id": "e3ded30e",
   "metadata": {},
   "outputs": [
    {
     "data": {
      "text/plain": [
       "Index(['hotel', 'lead_time', 'arrival_date_year', 'arrival_date_month',\n",
       "       'arrival_date_week_number', 'arrival_date_day_of_month',\n",
       "       'stays_in_weekend_nights', 'stays_in_week_nights', 'meal', 'country',\n",
       "       'market_segment', 'distribution_channel', 'is_repeated_guest',\n",
       "       'previous_cancellations', 'previous_bookings_not_canceled',\n",
       "       'reserved_room_type', 'assigned_room_type', 'booking_changes',\n",
       "       'deposit_type', 'agent', 'company', 'days_in_waiting_list',\n",
       "       'customer_type', 'adr', 'required_car_parking_spaces',\n",
       "       'reservation_status', 'Unnamed: 26', 'reservation_status_date', 'name',\n",
       "       'babies', 'children', 'adults', 'email', 'phone-number', 'credit_card'],\n",
       "      dtype='object')"
      ]
     },
     "execution_count": 7,
     "metadata": {},
     "output_type": "execute_result"
    }
   ],
   "source": [
    "# columns in dataset\n",
    "df.columns"
   ]
  },
  {
   "cell_type": "code",
   "execution_count": 8,
   "id": "67f1da36",
   "metadata": {},
   "outputs": [
    {
     "name": "stdout",
     "output_type": "stream",
     "text": [
      "<class 'pandas.core.frame.DataFrame'>\n",
      "RangeIndex: 119390 entries, 0 to 119389\n",
      "Data columns (total 35 columns):\n",
      " #   Column                          Non-Null Count   Dtype  \n",
      "---  ------                          --------------   -----  \n",
      " 0   hotel                           119390 non-null  object \n",
      " 1   lead_time                       119390 non-null  int64  \n",
      " 2   arrival_date_year               119390 non-null  int64  \n",
      " 3   arrival_date_month              119390 non-null  object \n",
      " 4   arrival_date_week_number        119390 non-null  int64  \n",
      " 5   arrival_date_day_of_month       119390 non-null  int64  \n",
      " 6   stays_in_weekend_nights         119390 non-null  int64  \n",
      " 7   stays_in_week_nights            119390 non-null  int64  \n",
      " 8   meal                            119390 non-null  object \n",
      " 9   country                         118902 non-null  object \n",
      " 10  market_segment                  119390 non-null  object \n",
      " 11  distribution_channel            119390 non-null  object \n",
      " 12  is_repeated_guest               119390 non-null  int64  \n",
      " 13  previous_cancellations          119390 non-null  int64  \n",
      " 14  previous_bookings_not_canceled  119390 non-null  int64  \n",
      " 15  reserved_room_type              119390 non-null  object \n",
      " 16  assigned_room_type              119390 non-null  object \n",
      " 17  booking_changes                 119390 non-null  int64  \n",
      " 18  deposit_type                    119390 non-null  object \n",
      " 19  agent                           103050 non-null  float64\n",
      " 20  company                         6797 non-null    float64\n",
      " 21  days_in_waiting_list            119390 non-null  int64  \n",
      " 22  customer_type                   119390 non-null  object \n",
      " 23  adr                             119390 non-null  float64\n",
      " 24  required_car_parking_spaces     119390 non-null  int64  \n",
      " 25  reservation_status              119390 non-null  object \n",
      " 26  Unnamed: 26                     0 non-null       float64\n",
      " 27  reservation_status_date         119390 non-null  object \n",
      " 28  name                            119390 non-null  object \n",
      " 29  babies                          119390 non-null  int64  \n",
      " 30  children                        119386 non-null  float64\n",
      " 31  adults                          119390 non-null  int64  \n",
      " 32  email                           119390 non-null  object \n",
      " 33  phone-number                    119390 non-null  object \n",
      " 34  credit_card                     119390 non-null  object \n",
      "dtypes: float64(5), int64(14), object(16)\n",
      "memory usage: 31.9+ MB\n"
     ]
    }
   ],
   "source": [
    "#checking data type\n",
    "df.info()"
   ]
  },
  {
   "cell_type": "code",
   "execution_count": 9,
   "id": "8bff4743",
   "metadata": {},
   "outputs": [
    {
     "name": "stdout",
     "output_type": "stream",
     "text": [
      "          hotel  lead_time  arrival_date_year arrival_date_month  \\\n",
      "0  Resort Hotel        342               2015               July   \n",
      "1  Resort Hotel        737               2015               July   \n",
      "2  Resort Hotel          7               2015               July   \n",
      "\n",
      "   arrival_date_week_number  arrival_date_day_of_month  \\\n",
      "0                        27                          1   \n",
      "1                        27                          1   \n",
      "2                        27                          1   \n",
      "\n",
      "   stays_in_weekend_nights  stays_in_week_nights meal country  ...  \\\n",
      "0                        0                     0   BB     PRT  ...   \n",
      "1                        0                     0   BB     PRT  ...   \n",
      "2                        0                     1   BB     GBR  ...   \n",
      "\n",
      "  deposit_type days_in_waiting_list  customer_type   adr  \\\n",
      "0   No Deposit                    0      Transient   0.0   \n",
      "1   No Deposit                    0      Transient   0.0   \n",
      "2   No Deposit                    0      Transient  75.0   \n",
      "\n",
      "   required_car_parking_spaces reservation_status reservation_status_date  \\\n",
      "0                            0          Check-Out                7/1/2015   \n",
      "1                            0          Check-Out                7/1/2015   \n",
      "2                            0          Check-Out                7/2/2015   \n",
      "\n",
      "   babies children  adults  \n",
      "0       0      0.0       2  \n",
      "1       0      0.0       2  \n",
      "2       0      0.0       1  \n",
      "\n",
      "[3 rows x 28 columns]\n"
     ]
    }
   ],
   "source": [
    "#remove the unnecessary columns\n",
    "df.drop([\"Unnamed: 26\",\"phone-number\",\"credit_card\",\"agent\",\"company\",\"email\",\"name\"],axis=1, inplace=True)\n",
    "print(df.head(3))"
   ]
  },
  {
   "cell_type": "code",
   "execution_count": 10,
   "id": "b8ce8e73",
   "metadata": {},
   "outputs": [
    {
     "name": "stdout",
     "output_type": "stream",
     "text": [
      "<class 'pandas.core.series.Series'>\n",
      "RangeIndex: 119390 entries, 0 to 119389\n",
      "Series name: reservation_status_date\n",
      "Non-Null Count   Dtype         \n",
      "--------------   -----         \n",
      "119390 non-null  datetime64[ns]\n",
      "dtypes: datetime64[ns](1)\n",
      "memory usage: 932.9 KB\n",
      "None\n"
     ]
    }
   ],
   "source": [
    "#changing \"reservation_status_date\" from object to date time\n",
    "df[\"reservation_status_date\"]= pd.to_datetime(df[\"reservation_status_date\"])\n",
    "print(df[\"reservation_status_date\"].info())"
   ]
  },
  {
   "cell_type": "code",
   "execution_count": 11,
   "id": "d1d6f950",
   "metadata": {},
   "outputs": [
    {
     "data": {
      "text/plain": [
       "hotel                               0\n",
       "lead_time                           0\n",
       "arrival_date_year                   0\n",
       "arrival_date_month                  0\n",
       "arrival_date_week_number            0\n",
       "arrival_date_day_of_month           0\n",
       "stays_in_weekend_nights             0\n",
       "stays_in_week_nights                0\n",
       "meal                                0\n",
       "country                           488\n",
       "market_segment                      0\n",
       "distribution_channel                0\n",
       "is_repeated_guest                   0\n",
       "previous_cancellations              0\n",
       "previous_bookings_not_canceled      0\n",
       "reserved_room_type                  0\n",
       "assigned_room_type                  0\n",
       "booking_changes                     0\n",
       "deposit_type                        0\n",
       "days_in_waiting_list                0\n",
       "customer_type                       0\n",
       "adr                                 0\n",
       "required_car_parking_spaces         0\n",
       "reservation_status                  0\n",
       "reservation_status_date             0\n",
       "babies                              0\n",
       "children                            4\n",
       "adults                              0\n",
       "dtype: int64"
      ]
     },
     "execution_count": 11,
     "metadata": {},
     "output_type": "execute_result"
    }
   ],
   "source": [
    "#missing values\n",
    "df.isnull().sum()"
   ]
  },
  {
   "cell_type": "code",
   "execution_count": 12,
   "id": "845ac24c",
   "metadata": {},
   "outputs": [],
   "source": [
    "#remove null values\n",
    "df.dropna(inplace=True)"
   ]
  },
  {
   "cell_type": "code",
   "execution_count": 13,
   "id": "9ce6ffd5",
   "metadata": {},
   "outputs": [
    {
     "data": {
      "text/html": [
       "<div>\n",
       "<style scoped>\n",
       "    .dataframe tbody tr th:only-of-type {\n",
       "        vertical-align: middle;\n",
       "    }\n",
       "\n",
       "    .dataframe tbody tr th {\n",
       "        vertical-align: top;\n",
       "    }\n",
       "\n",
       "    .dataframe thead th {\n",
       "        text-align: right;\n",
       "    }\n",
       "</style>\n",
       "<table border=\"1\" class=\"dataframe\">\n",
       "  <thead>\n",
       "    <tr style=\"text-align: right;\">\n",
       "      <th></th>\n",
       "      <th>lead_time</th>\n",
       "      <th>arrival_date_year</th>\n",
       "      <th>arrival_date_week_number</th>\n",
       "      <th>arrival_date_day_of_month</th>\n",
       "      <th>stays_in_weekend_nights</th>\n",
       "      <th>stays_in_week_nights</th>\n",
       "      <th>is_repeated_guest</th>\n",
       "      <th>previous_cancellations</th>\n",
       "      <th>previous_bookings_not_canceled</th>\n",
       "      <th>booking_changes</th>\n",
       "      <th>days_in_waiting_list</th>\n",
       "      <th>adr</th>\n",
       "      <th>required_car_parking_spaces</th>\n",
       "      <th>reservation_status_date</th>\n",
       "      <th>babies</th>\n",
       "      <th>children</th>\n",
       "      <th>adults</th>\n",
       "    </tr>\n",
       "  </thead>\n",
       "  <tbody>\n",
       "    <tr>\n",
       "      <th>count</th>\n",
       "      <td>118898.000000</td>\n",
       "      <td>118898.000000</td>\n",
       "      <td>118898.000000</td>\n",
       "      <td>118898.000000</td>\n",
       "      <td>118898.000000</td>\n",
       "      <td>118898.000000</td>\n",
       "      <td>118898.000000</td>\n",
       "      <td>118898.000000</td>\n",
       "      <td>118898.000000</td>\n",
       "      <td>118898.000000</td>\n",
       "      <td>118898.000000</td>\n",
       "      <td>118898.000000</td>\n",
       "      <td>118898.000000</td>\n",
       "      <td>118898</td>\n",
       "      <td>118898.000000</td>\n",
       "      <td>118898.000000</td>\n",
       "      <td>118898.000000</td>\n",
       "    </tr>\n",
       "    <tr>\n",
       "      <th>mean</th>\n",
       "      <td>104.311435</td>\n",
       "      <td>2016.157656</td>\n",
       "      <td>27.166555</td>\n",
       "      <td>15.800880</td>\n",
       "      <td>0.928897</td>\n",
       "      <td>2.502145</td>\n",
       "      <td>0.032011</td>\n",
       "      <td>0.087142</td>\n",
       "      <td>0.131634</td>\n",
       "      <td>0.221181</td>\n",
       "      <td>2.330754</td>\n",
       "      <td>102.003243</td>\n",
       "      <td>0.061885</td>\n",
       "      <td>2016-07-30 07:37:53.336809984</td>\n",
       "      <td>0.007948</td>\n",
       "      <td>0.104207</td>\n",
       "      <td>1.858391</td>\n",
       "    </tr>\n",
       "    <tr>\n",
       "      <th>min</th>\n",
       "      <td>0.000000</td>\n",
       "      <td>2015.000000</td>\n",
       "      <td>1.000000</td>\n",
       "      <td>1.000000</td>\n",
       "      <td>0.000000</td>\n",
       "      <td>0.000000</td>\n",
       "      <td>0.000000</td>\n",
       "      <td>0.000000</td>\n",
       "      <td>0.000000</td>\n",
       "      <td>0.000000</td>\n",
       "      <td>0.000000</td>\n",
       "      <td>-6.380000</td>\n",
       "      <td>0.000000</td>\n",
       "      <td>2014-10-17 00:00:00</td>\n",
       "      <td>0.000000</td>\n",
       "      <td>0.000000</td>\n",
       "      <td>0.000000</td>\n",
       "    </tr>\n",
       "    <tr>\n",
       "      <th>25%</th>\n",
       "      <td>18.000000</td>\n",
       "      <td>2016.000000</td>\n",
       "      <td>16.000000</td>\n",
       "      <td>8.000000</td>\n",
       "      <td>0.000000</td>\n",
       "      <td>1.000000</td>\n",
       "      <td>0.000000</td>\n",
       "      <td>0.000000</td>\n",
       "      <td>0.000000</td>\n",
       "      <td>0.000000</td>\n",
       "      <td>0.000000</td>\n",
       "      <td>70.000000</td>\n",
       "      <td>0.000000</td>\n",
       "      <td>2016-02-02 00:00:00</td>\n",
       "      <td>0.000000</td>\n",
       "      <td>0.000000</td>\n",
       "      <td>2.000000</td>\n",
       "    </tr>\n",
       "    <tr>\n",
       "      <th>50%</th>\n",
       "      <td>69.000000</td>\n",
       "      <td>2016.000000</td>\n",
       "      <td>28.000000</td>\n",
       "      <td>16.000000</td>\n",
       "      <td>1.000000</td>\n",
       "      <td>2.000000</td>\n",
       "      <td>0.000000</td>\n",
       "      <td>0.000000</td>\n",
       "      <td>0.000000</td>\n",
       "      <td>0.000000</td>\n",
       "      <td>0.000000</td>\n",
       "      <td>95.000000</td>\n",
       "      <td>0.000000</td>\n",
       "      <td>2016-08-08 00:00:00</td>\n",
       "      <td>0.000000</td>\n",
       "      <td>0.000000</td>\n",
       "      <td>2.000000</td>\n",
       "    </tr>\n",
       "    <tr>\n",
       "      <th>75%</th>\n",
       "      <td>161.000000</td>\n",
       "      <td>2017.000000</td>\n",
       "      <td>38.000000</td>\n",
       "      <td>23.000000</td>\n",
       "      <td>2.000000</td>\n",
       "      <td>3.000000</td>\n",
       "      <td>0.000000</td>\n",
       "      <td>0.000000</td>\n",
       "      <td>0.000000</td>\n",
       "      <td>0.000000</td>\n",
       "      <td>0.000000</td>\n",
       "      <td>126.000000</td>\n",
       "      <td>0.000000</td>\n",
       "      <td>2017-02-09 00:00:00</td>\n",
       "      <td>0.000000</td>\n",
       "      <td>0.000000</td>\n",
       "      <td>2.000000</td>\n",
       "    </tr>\n",
       "    <tr>\n",
       "      <th>max</th>\n",
       "      <td>737.000000</td>\n",
       "      <td>2017.000000</td>\n",
       "      <td>53.000000</td>\n",
       "      <td>31.000000</td>\n",
       "      <td>16.000000</td>\n",
       "      <td>41.000000</td>\n",
       "      <td>1.000000</td>\n",
       "      <td>26.000000</td>\n",
       "      <td>72.000000</td>\n",
       "      <td>21.000000</td>\n",
       "      <td>391.000000</td>\n",
       "      <td>5400.000000</td>\n",
       "      <td>8.000000</td>\n",
       "      <td>2017-09-14 00:00:00</td>\n",
       "      <td>10.000000</td>\n",
       "      <td>10.000000</td>\n",
       "      <td>55.000000</td>\n",
       "    </tr>\n",
       "    <tr>\n",
       "      <th>std</th>\n",
       "      <td>106.903309</td>\n",
       "      <td>0.707459</td>\n",
       "      <td>13.589971</td>\n",
       "      <td>8.780324</td>\n",
       "      <td>0.996216</td>\n",
       "      <td>1.900168</td>\n",
       "      <td>0.176029</td>\n",
       "      <td>0.845869</td>\n",
       "      <td>1.484672</td>\n",
       "      <td>0.652785</td>\n",
       "      <td>17.630452</td>\n",
       "      <td>50.485862</td>\n",
       "      <td>0.244172</td>\n",
       "      <td>NaN</td>\n",
       "      <td>0.097380</td>\n",
       "      <td>0.399172</td>\n",
       "      <td>0.578576</td>\n",
       "    </tr>\n",
       "  </tbody>\n",
       "</table>\n",
       "</div>"
      ],
      "text/plain": [
       "           lead_time  arrival_date_year  arrival_date_week_number  \\\n",
       "count  118898.000000      118898.000000             118898.000000   \n",
       "mean      104.311435        2016.157656                 27.166555   \n",
       "min         0.000000        2015.000000                  1.000000   \n",
       "25%        18.000000        2016.000000                 16.000000   \n",
       "50%        69.000000        2016.000000                 28.000000   \n",
       "75%       161.000000        2017.000000                 38.000000   \n",
       "max       737.000000        2017.000000                 53.000000   \n",
       "std       106.903309           0.707459                 13.589971   \n",
       "\n",
       "       arrival_date_day_of_month  stays_in_weekend_nights  \\\n",
       "count              118898.000000            118898.000000   \n",
       "mean                   15.800880                 0.928897   \n",
       "min                     1.000000                 0.000000   \n",
       "25%                     8.000000                 0.000000   \n",
       "50%                    16.000000                 1.000000   \n",
       "75%                    23.000000                 2.000000   \n",
       "max                    31.000000                16.000000   \n",
       "std                     8.780324                 0.996216   \n",
       "\n",
       "       stays_in_week_nights  is_repeated_guest  previous_cancellations  \\\n",
       "count         118898.000000      118898.000000           118898.000000   \n",
       "mean               2.502145           0.032011                0.087142   \n",
       "min                0.000000           0.000000                0.000000   \n",
       "25%                1.000000           0.000000                0.000000   \n",
       "50%                2.000000           0.000000                0.000000   \n",
       "75%                3.000000           0.000000                0.000000   \n",
       "max               41.000000           1.000000               26.000000   \n",
       "std                1.900168           0.176029                0.845869   \n",
       "\n",
       "       previous_bookings_not_canceled  booking_changes  days_in_waiting_list  \\\n",
       "count                   118898.000000    118898.000000         118898.000000   \n",
       "mean                         0.131634         0.221181              2.330754   \n",
       "min                          0.000000         0.000000              0.000000   \n",
       "25%                          0.000000         0.000000              0.000000   \n",
       "50%                          0.000000         0.000000              0.000000   \n",
       "75%                          0.000000         0.000000              0.000000   \n",
       "max                         72.000000        21.000000            391.000000   \n",
       "std                          1.484672         0.652785             17.630452   \n",
       "\n",
       "                 adr  required_car_parking_spaces  \\\n",
       "count  118898.000000                118898.000000   \n",
       "mean      102.003243                     0.061885   \n",
       "min        -6.380000                     0.000000   \n",
       "25%        70.000000                     0.000000   \n",
       "50%        95.000000                     0.000000   \n",
       "75%       126.000000                     0.000000   \n",
       "max      5400.000000                     8.000000   \n",
       "std        50.485862                     0.244172   \n",
       "\n",
       "             reservation_status_date         babies       children  \\\n",
       "count                         118898  118898.000000  118898.000000   \n",
       "mean   2016-07-30 07:37:53.336809984       0.007948       0.104207   \n",
       "min              2014-10-17 00:00:00       0.000000       0.000000   \n",
       "25%              2016-02-02 00:00:00       0.000000       0.000000   \n",
       "50%              2016-08-08 00:00:00       0.000000       0.000000   \n",
       "75%              2017-02-09 00:00:00       0.000000       0.000000   \n",
       "max              2017-09-14 00:00:00      10.000000      10.000000   \n",
       "std                              NaN       0.097380       0.399172   \n",
       "\n",
       "              adults  \n",
       "count  118898.000000  \n",
       "mean        1.858391  \n",
       "min         0.000000  \n",
       "25%         2.000000  \n",
       "50%         2.000000  \n",
       "75%         2.000000  \n",
       "max        55.000000  \n",
       "std         0.578576  "
      ]
     },
     "execution_count": 13,
     "metadata": {},
     "output_type": "execute_result"
    }
   ],
   "source": [
    "df.describe()"
   ]
  },
  {
   "cell_type": "code",
   "execution_count": 14,
   "id": "b146004e",
   "metadata": {},
   "outputs": [
    {
     "data": {
      "text/plain": [
       "12390.0"
      ]
     },
     "execution_count": 14,
     "metadata": {},
     "output_type": "execute_result"
    }
   ],
   "source": [
    "#  total children \n",
    "df['children'].sum()"
   ]
  },
  {
   "cell_type": "code",
   "execution_count": 15,
   "id": "359b6d1c",
   "metadata": {},
   "outputs": [
    {
     "data": {
      "text/plain": [
       "220959"
      ]
     },
     "execution_count": 15,
     "metadata": {},
     "output_type": "execute_result"
    }
   ],
   "source": [
    "#  total adults\n",
    "df['adults'].sum()"
   ]
  },
  {
   "cell_type": "code",
   "execution_count": 16,
   "id": "fb0ac2cd",
   "metadata": {},
   "outputs": [
    {
     "data": {
      "text/plain": [
       "945"
      ]
     },
     "execution_count": 16,
     "metadata": {},
     "output_type": "execute_result"
    }
   ],
   "source": [
    "#  total babies\n",
    "df['babies'].sum()"
   ]
  },
  {
   "cell_type": "markdown",
   "id": "171cb8f1",
   "metadata": {},
   "source": [
    "# Data Analysis and Visualizations"
   ]
  },
  {
   "cell_type": "code",
   "execution_count": 17,
   "id": "73c76eb3",
   "metadata": {},
   "outputs": [
    {
     "name": "stdout",
     "output_type": "stream",
     "text": [
      "is_repeated_guest\n",
      "0    115092\n",
      "1      3806\n",
      "Name: count, dtype: int64\n"
     ]
    }
   ],
   "source": [
    "#check the new or repeated guest\n",
    "value_counts = df[\"is_repeated_guest\"].value_counts()\n",
    "print(value_counts)"
   ]
  },
  {
   "cell_type": "code",
   "execution_count": 18,
   "id": "6bd328d5",
   "metadata": {},
   "outputs": [
    {
     "name": "stdout",
     "output_type": "stream",
     "text": [
      "is_repeated_guest\n",
      "0    115092\n",
      "1      3806\n",
      "Name: count, dtype: int64\n"
     ]
    }
   ],
   "source": [
    "#  replace 0 with \"New\" and 1 with \"Repeated\"\n",
    "df[\"is_repeated_guest\"] = df[\"is_repeated_guest\"].replace({0: \"New\", 1: \"Repeated\"})\n",
    "print(value_counts)"
   ]
  },
  {
   "cell_type": "code",
   "execution_count": 19,
   "id": "614faf00",
   "metadata": {},
   "outputs": [
    {
     "name": "stdout",
     "output_type": "stream",
     "text": [
      "is_repeated_guest\n",
      "New         96.798937\n",
      "Repeated     3.201063\n",
      "Name: proportion, dtype: float64\n"
     ]
    },
    {
     "data": {
      "image/png": "[encoded data removed]",
      "text/plain": [
       "<Figure size 500x300 with 1 Axes>"
      ]
     },
     "metadata": {},
     "output_type": "display_data"
    }
   ],
   "source": [
    "# calculating percentage of repeated guest\n",
    "repeated_guest = df[\"is_repeated_guest\"].value_counts(normalize = True)*100\n",
    "print(repeated_guest)\n",
    "\n",
    "#creating a countplot and label the bars in the plot using the Seaborn library\n",
    "plt.figure(figsize = (5,3))\n",
    "\n",
    "#bar title\n",
    "plt.title(\"New vs Repeated client\", size = 18)\n",
    "\n",
    "# count plot using Seaborn with x axis label\n",
    "ax=sns.countplot(data=df,x=\"is_repeated_guest\")\n",
    "\n",
    "#label the bar\n",
    "ax.bar_label(ax.containers[0])\n",
    "plt.show()"
   ]
  },
  {
   "cell_type": "markdown",
   "id": "f9b4f688",
   "metadata": {},
   "source": [
    "An analysis of the chart, majority of clients are new clients (approximately 96.80%), while a small proportion are repeated clients (approximately 3.20%). "
   ]
  },
  {
   "cell_type": "code",
   "execution_count": 20,
   "id": "8ae87292",
   "metadata": {
    "scrolled": true
   },
   "outputs": [
    {
     "data": {
      "image/png": "[encoded data removed]",
      "text/plain": [
       "<Figure size 500x300 with 1 Axes>"
      ]
     },
     "metadata": {},
     "output_type": "display_data"
    }
   ],
   "source": [
    "# which hotel has more reapeted client\n",
    "plt.figure(figsize = (5,3))\n",
    "\n",
    "# Filter the data to include only repeated clients\n",
    "repeated_clients = df[df['is_repeated_guest'] == \"Repeated\"]\n",
    "\n",
    "# Count the number of repeated clients for each hotel\n",
    "hotel_counts = repeated_clients['hotel'].value_counts()\n",
    "\n",
    "ax= sns.countplot(x=\"hotel\", data = repeated_clients)\n",
    "\n",
    "plt.title(\"Hotels with Repeated Clients\",size = 18)\n",
    "plt.xlabel(\"Hotel\")\n",
    "plt.ylabel(\"Number of repeated clients\")\n",
    "\n",
    "\n",
    "#label the bar with counts\n",
    "ax.bar_label(ax.containers[0])\n",
    "plt.show()"
   ]
  },
  {
   "cell_type": "markdown",
   "id": "74086071",
   "metadata": {},
   "source": [
    "The chart above shows City hotel do better job of making guest to come back and stay with them compare to resort hotel."
   ]
  },
  {
   "cell_type": "code",
   "execution_count": 25,
   "id": "6a2f9557",
   "metadata": {},
   "outputs": [
    {
     "name": "stdout",
     "output_type": "stream",
     "text": [
      "{'Previous Cancellation': 10361, 'Not Canceled': 15651}\n"
     ]
    },
    {
     "data": {
      "image/png": "[encoded data removed]",
      "text/plain": [
       "<Figure size 600x600 with 1 Axes>"
      ]
     },
     "metadata": {},
     "output_type": "display_data"
    }
   ],
   "source": [
    "#previous cancellations vs previous bookings not canceled\n",
    "data={\n",
    "    \"Previous Cancellation\" : df[\"previous_cancellations\"].sum(),\n",
    "    \"Not Canceled\" : df[\"previous_bookings_not_canceled\"].sum()\n",
    "}\n",
    "print(data)\n",
    "\n",
    "#label for pie chart\n",
    "label = data.keys() \n",
    "\n",
    "\n",
    "#create a pie chart\n",
    "plt.figure(figsize=(6, 6))\n",
    "\n",
    "#title for the pie chart\n",
    "plt.title(\"Previous Cancellation VS Not Canceled\", size=18)\n",
    "\n",
    "plt.pie(data.values(), labels=label, autopct=\"%1.2f%%\")# autopct display the percentage labels in chart\n",
    "\n",
    "plt.axis('equal')  # Equal ratio ensures that the pie chart is circular\n",
    "\n",
    "plt.show()"
   ]
  },
  {
   "cell_type": "markdown",
   "id": "03a6f60d",
   "metadata": {},
   "source": [
    "The pie chart shows that the majority of previous bookings (60.17%), were not canceled, while 39.83% of previous bookings were canceled."
   ]
  }
 ],
 "metadata": {
  "kernelspec": {
   "display_name": "Python 3 (ipykernel)",
   "language": "python",
   "name": "python3"
  },
  "language_info": {
   "codemirror_mode": {
    "name": "ipython",
    "version": 3
   },
   "file_extension": ".py",
   "mimetype": "text/x-python",
   "name": "python",
   "nbconvert_exporter": "python",
   "pygments_lexer": "ipython3",
   "version": "3.10.8"
  }
 },
 "nbformat": 4,
 "nbformat_minor": 5
}
